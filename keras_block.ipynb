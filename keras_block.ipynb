{
 "cells": [
  {
   "cell_type": "code",
   "execution_count": 18,
   "metadata": {
    "collapsed": false
   },
   "outputs": [],
   "source": [
    "# keras section\n",
    "from keras.models import Sequential;\n",
    "from keras.layers.core import Dense, Activation\n",
    "import numpy as np\n",
    "\n",
    "model = Sequential();\n",
    "\n",
    "model.add(Dense(output_dim=64, input_dim=100, init=\"glorot_uniform\"))\n",
    "model.add(Activation(\"relu\"))\n",
    "model.add(Dense(output_dim=10, init=\"glorot_uniform\"))\n",
    "model.add(Activation(\"softmax\"))\n",
    "\n",
    "model.compile(loss='categorical_crossentropy', optimizer='sgd')"
   ]
  },
  {
   "cell_type": "code",
   "execution_count": 22,
   "metadata": {
    "collapsed": false
   },
   "outputs": [],
   "source": [
    "# init random data\n",
    "import numpy as np\n",
    "# this is only dummy data to demonstrate keras ability to run multilayer perceptron\n",
    "# real data will have X_train as matrix (nTrainings, nFeatures)\n",
    "#                     y_train as an array of label (nTrainings)\n",
    "# convert y_train(nTraining) to y_train(nTraining, nClasses) with each nTraining\n",
    "# is a binary marker array of the class\n",
    "\n",
    "X_train_data = np.random.rand(1000, 100)\n",
    "y_train_data = np.random.rand(1000, 10) # do convert label array to label matrix\n"
   ]
  },
  {
   "cell_type": "code",
   "execution_count": 23,
   "metadata": {
    "collapsed": false
   },
   "outputs": [
    {
     "name": "stdout",
     "output_type": "stream",
     "text": [
      "Epoch 1/5\n",
      "1000/1000 [==============================] - 0s - loss: 11.7403     \n",
      "Epoch 2/5\n",
      "1000/1000 [==============================] - 0s - loss: 11.6391     \n",
      "Epoch 3/5\n",
      "1000/1000 [==============================] - 0s - loss: 11.6219     \n",
      "Epoch 4/5\n",
      "1000/1000 [==============================] - 0s - loss: 11.6079     \n",
      "Epoch 5/5\n",
      "1000/1000 [==============================] - 0s - loss: 11.5969     \n",
      "<keras.models.Sequential object at 0x7ffb806dbd50>\n"
     ]
    }
   ],
   "source": [
    "# train keras model\n",
    "model.fit(X_train_data, y_train_data, nb_epoch=5, batch_size=32)\n",
    "print model"
   ]
  },
  {
   "cell_type": "code",
   "execution_count": 25,
   "metadata": {
    "collapsed": false
   },
   "outputs": [
    {
     "name": "stdout",
     "output_type": "stream",
     "text": [
      "200/200 [==============================] - 0s     \n",
      "200/200 [==============================] - 0s     \n",
      "[9 9 6 5 3 9 1 3 3 4 4 9 6 6 7 0 4 7 5 5 3 5 4 9 4 7 9 7 5 0 2 5 3 5 5 2 5\n",
      " 0 2 7 2 6 1 3 5 3 5 8 3 7 3 2 4 2 3 6 4 6 4 3 4 4 1 1 9 4 1 8 7 6 9 4 1 7\n",
      " 1 5 1 6 3 4 5 2 3 5 4 4 5 8 7 1 1 1 5 3 8 9 0 3 3 4 7 4 5 4 4 3 7 7 3 2 4\n",
      " 4 5 6 7 4 3 3 1 6 3 7 9 1 3 5 1 7 9 5 6 0 5 7 3 6 5 5 7 6 3 4 2 2 5 1 3 4\n",
      " 8 6 7 6 2 0 4 8 8 5 1 9 4 3 1 7 8 5 3 3 5 3 5 6 4 4 5 5 1 4 9 6 4 9 5 5 3\n",
      " 5 2 0 7 5 3 8 9 3 0 3 6 8 7 0]\n"
     ]
    }
   ],
   "source": [
    "# test model \n",
    "# init test data\n",
    "X_test_data = np.random.rand(200, 100) # training set with 200 test case, 100 feature each\n",
    "y_test_data = np.random.rand(200, 10) # label of training set, 200 label and 10 classes \n",
    "classes = model.predict_classes(X_test_data, batch_size=32) # test by batch to save memory\n",
    "proba = model.predict_proba(X_test_data, batch_size=32) # output probability for deeper understanding of class distribution\n",
    "\n",
    "print classes"
   ]
  },
  {
   "cell_type": "code",
   "execution_count": 11,
   "metadata": {
    "collapsed": false
   },
   "outputs": [
    {
     "name": "stdout",
     "output_type": "stream",
     "text": [
      "(60000, 28, 28)\n",
      "(60000,)\n"
     ]
    }
   ],
   "source": [
    "# this is a cell to pre-run code and see results before adding the \n",
    "# code into the main cells above\n",
    "from keras.datasets import mnist;\n",
    "\n",
    "(X_train, y_train), (X_test, y_test) = mnist.load_data()\n",
    "\n",
    "print X_train.shape\n",
    "print y_train.shape"
   ]
  },
  {
   "cell_type": "code",
   "execution_count": null,
   "metadata": {
    "collapsed": true
   },
   "outputs": [],
   "source": [
    "# block section"
   ]
  }
 ],
 "metadata": {
  "kernelspec": {
   "display_name": "Python 2",
   "language": "python",
   "name": "python2"
  },
  "language_info": {
   "codemirror_mode": {
    "name": "ipython",
    "version": 2
   },
   "file_extension": ".py",
   "mimetype": "text/x-python",
   "name": "python",
   "nbconvert_exporter": "python",
   "pygments_lexer": "ipython2",
   "version": "2.7.11"
  }
 },
 "nbformat": 4,
 "nbformat_minor": 0
}
