{
 "cells": [
  {
   "cell_type": "markdown",
   "metadata": {},
   "source": [
    "# load caffe models for conversion from caffemodel to torch nn model"
   ]
  },
  {
   "cell_type": "code",
   "execution_count": 1,
   "metadata": {
    "collapsed": true
   },
   "outputs": [],
   "source": [
    "-- load libraries\n",
    "\n",
    "require 'nn'\n",
    "require 'loadcaffe'"
   ]
  },
  {
   "cell_type": "code",
   "execution_count": 2,
   "metadata": {
    "collapsed": true
   },
   "outputs": [],
   "source": [
    "-- define variables \n",
    "\n",
    "modelPath = './caffe_model/bvlc_alexnet.caffemodel'\n",
    "modelProtoPath = './caffe_model/deploy.prototxt' "
   ]
  },
  {
   "cell_type": "code",
   "execution_count": 4,
   "metadata": {
    "collapsed": false
   },
   "outputs": [
    {
     "data": {
      "text/plain": [
       "Successfully loaded ./caffe_model/bvlc_alexnet.caffemodel\n"
      ]
     },
     "execution_count": 4,
     "metadata": {},
     "output_type": "execute_result"
    },
    {
     "data": {
      "text/plain": [
       "MODULE data UNDEFINED\n",
       "warning: module 'data [type 5]' not found\n",
       "nn supports no groups!\n",
       "warning: module 'conv2 [type 4]' not found\n",
       "nn supports no groups!\n",
       "warning: module 'conv4 [type 4]' not found\n",
       "nn supports no groups!\n",
       "warning: module 'conv5 [type 4]' not found\n"
      ]
     },
     "execution_count": 4,
     "metadata": {},
     "output_type": "execute_result"
    },
    {
     "data": {
      "text/plain": [
       "conv1: 96 3 11 11\n",
       "conv3: 384 256 3 3\n"
      ]
     },
     "execution_count": 4,
     "metadata": {},
     "output_type": "execute_result"
    },
    {
     "data": {
      "text/plain": [
       "fc6: 1 1 9216 4096\n"
      ]
     },
     "execution_count": 4,
     "metadata": {},
     "output_type": "execute_result"
    },
    {
     "data": {
      "text/plain": [
       "fc7: 1 1 4096 4096\n"
      ]
     },
     "execution_count": 4,
     "metadata": {},
     "output_type": "execute_result"
    },
    {
     "data": {
      "text/plain": [
       "fc8: 1 1 4096 1000\n"
      ]
     },
     "execution_count": 4,
     "metadata": {},
     "output_type": "execute_result"
    }
   ],
   "source": [
    "-- load caffe model\n",
    "\n",
    "model = loadcaffe.load(modelProtoPath, modelPath, 'nn')"
   ]
  }
 ],
 "metadata": {
  "kernelspec": {
   "display_name": "iTorch",
   "language": "lua",
   "name": "itorch"
  },
  "language_info": {
   "name": "lua",
   "version": "5.1"
  }
 },
 "nbformat": 4,
 "nbformat_minor": 0
}
