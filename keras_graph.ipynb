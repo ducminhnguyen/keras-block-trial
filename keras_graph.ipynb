{
 "cells": [
  {
   "cell_type": "code",
   "execution_count": 19,
   "metadata": {
    "collapsed": false
   },
   "outputs": [],
   "source": [
    "import keras\n",
    "from keras.models import Graph\n",
    "from keras.layers import Dense, Dropout, Activation, Flatten\n",
    "from keras.layers.convolutional import Convolution2D, MaxPooling2D\n",
    "from keras.optimizers import SGD\n",
    "from keras.utils.visualize_util import *"
   ]
  },
  {
   "cell_type": "code",
   "execution_count": 8,
   "metadata": {
    "collapsed": false
   },
   "outputs": [],
   "source": [
    "# build model\n",
    "nclass = 5\n",
    "model = Graph()\n",
    "\n",
    "model.add_input(name = 'rgb', input_shape=(3, 10, 10))\n",
    "model.add_input(name = 'ext_depth' , input_shape=(3, 10, 10))\n",
    "\n",
    "layer_1_1 = Convolution2D(96, 3, 3, border_mode='valid' )\n",
    "model.add_node(layer_1_1, input='rgb', name='conv_1_1')\n",
    "layer_1_2 = Convolution2D(96, 3, 3, border_mode='valid')\n",
    "model.add_node(layer_1_2, input='ext_depth', name='conv_1_2')\n",
    "\n",
    "model.add_node(Flatten(), input='conv_1_1', name = 'fl_1_1')\n",
    "model.add_node(Flatten(), input='conv_1_2', name = 'fl_1_2')\n",
    "model.add_node(Dense(100), inputs=['fl_1_1', 'fl_1_2'], name='dense_1', merge_mode='concat')\n",
    "model.add_node(Dense(nclass), input='dense_1', name='dense_2')\n",
    "model.add_output(name='output', input='dense_2')\n",
    "model.compile(loss={'output':'mse'}, optimizer='sgd')"
   ]
  },
  {
   "cell_type": "code",
   "execution_count": 16,
   "metadata": {
    "collapsed": true
   },
   "outputs": [],
   "source": [
    "plot(model, 'model_graph.png')"
   ]
  }
 ],
 "metadata": {
  "kernelspec": {
   "display_name": "Python 2",
   "language": "python",
   "name": "python2"
  },
  "language_info": {
   "codemirror_mode": {
    "name": "ipython",
    "version": 2
   },
   "file_extension": ".py",
   "mimetype": "text/x-python",
   "name": "python",
   "nbconvert_exporter": "python",
   "pygments_lexer": "ipython2",
   "version": "2.7.11"
  }
 },
 "nbformat": 4,
 "nbformat_minor": 0
}
